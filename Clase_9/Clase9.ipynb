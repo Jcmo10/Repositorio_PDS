{
 "cells": [
  {
   "cell_type": "markdown",
   "id": "f8ff2274",
   "metadata": {},
   "source": [
    "Transformada Z"
   ]
  },
  {
   "cell_type": "code",
   "execution_count": 13,
   "id": "77b4d108",
   "metadata": {},
   "outputs": [
    {
     "name": "stdout",
     "output_type": "stream",
     "text": [
      "[15. +3.94745964e-16j -2.5+3.44095480e+00j -2.5+8.12299241e-01j\n",
      " -2.5-8.12299241e-01j -2.5-3.44095480e+00j]\n"
     ]
    }
   ],
   "source": [
    "from scipy.signal import czt\n",
    "\n",
    "x = [1,2,3,4,5]  # Definir la señal discreta\n",
    "N = len(x)  # Longitud de la señal discreta\n",
    "w = [5,2,1,1]  # Vector que representa la frecuencia de la señal discreta\n",
    "\n",
    "X = czt(x, N)#, w)  # Calcular la Transformada Z con CZT\n",
    "\n",
    "print(X)"
   ]
  },
  {
   "cell_type": "code",
   "execution_count": 15,
   "id": "5616ec54",
   "metadata": {},
   "outputs": [
    {
     "name": "stdout",
     "output_type": "stream",
     "text": [
      "[15.        +1.57898386e-15j -3.        -3.80422607e+00j\n",
      " -1.61803399+3.07768354e+00j -6.80901699-5.87785252e-01j\n",
      " -4.5       +1.08981379e+00j]\n"
     ]
    }
   ],
   "source": [
    "from scipy.signal import czt\n",
    "import numpy as np\n",
    "\n",
    "# Definir la señal discreta\n",
    "x = np.array([1, 2, 3, 4, 5])\n",
    "\n",
    "# Longitud de la señal discreta\n",
    "N = len(x)\n",
    "\n",
    "# Vector que representa la frecuencia de la señal discreta\n",
    "w = np.exp(-1j * 2 * np.pi / N * np.arange(N))\n",
    "\n",
    "# Calcular la Transformada Z con CZT\n",
    "X = czt(x, N, w)\n",
    "\n",
    "print(X)\n"
   ]
  },
  {
   "cell_type": "code",
   "execution_count": null,
   "id": "22c14ab0",
   "metadata": {},
   "outputs": [],
   "source": []
  }
 ],
 "metadata": {
  "kernelspec": {
   "display_name": "Python 3 (ipykernel)",
   "language": "python",
   "name": "python3"
  },
  "language_info": {
   "codemirror_mode": {
    "name": "ipython",
    "version": 3
   },
   "file_extension": ".py",
   "mimetype": "text/x-python",
   "name": "python",
   "nbconvert_exporter": "python",
   "pygments_lexer": "ipython3",
   "version": "3.9.13"
  }
 },
 "nbformat": 4,
 "nbformat_minor": 5
}
