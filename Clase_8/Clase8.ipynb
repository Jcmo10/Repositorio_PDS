{
 "cells": [
  {
   "cell_type": "code",
   "execution_count": null,
   "id": "aec6c9be",
   "metadata": {},
   "outputs": [],
   "source": []
  },
  {
   "cell_type": "code",
   "execution_count": 26,
   "id": "f678e47c",
   "metadata": {},
   "outputs": [
    {
     "name": "stdout",
     "output_type": "stream",
     "text": [
      "Polos:  [-0.+1.j  0.-1.j  0.+0.j]\n",
      "Ceros:  [-1.65062919+0.j         -0.1746854 +1.54686889j -0.1746854 -1.54686889j]\n",
      "Ganancia:  1.0\n"
     ]
    }
   ],
   "source": [
    "import scipy.signal as sig\n",
    "\n",
    "x = [1, 2, 3, 4]\n",
    "num = x\n",
    "den = [1, 0, 1, 0]\n",
    "z, p, k = sig.tf2zpk(num, den)\n",
    "print(\"Polos: \", p)\n",
    "print(\"Ceros: \", z)\n",
    "print(\"Ganancia: \", k)\n"
   ]
  },
  {
   "cell_type": "code",
   "execution_count": null,
   "id": "72f1621c",
   "metadata": {},
   "outputs": [],
   "source": []
  },
  {
   "cell_type": "code",
   "execution_count": 42,
   "id": "f24893bd",
   "metadata": {},
   "outputs": [
    {
     "name": "stdout",
     "output_type": "stream",
     "text": [
      "Transformada Z de x:  [[ 5.  5.]\n",
      " [ 5. -1.]\n",
      " [ 5.  5.]\n",
      " [ 5. -1.]]\n"
     ]
    }
   ],
   "source": [
    "import numpy as np\n",
    "\n",
    "x = [1, 2, 3, 4]\n",
    "num = x\n",
    "den = [1, 0, 1, 0]\n",
    "z = np.array([1, -1]) # valores de la variable z\n",
    "\n",
    "n = np.arange(0, len(x))\n",
    "z_inv = np.power(z, -1*np.ones(len(z))*n.reshape(-1, 1)) # valores de z^{-n}\n",
    "\n",
    "X = np.polyval(num, z_inv) / np.polyval(den, z_inv) # calcular la Transformada Z\n",
    "\n",
    "\n",
    "print(\"Transformada Z de x: \", X)\n"
   ]
  },
  {
   "cell_type": "code",
   "execution_count": null,
   "id": "2ac3e3cc",
   "metadata": {},
   "outputs": [],
   "source": []
  },
  {
   "cell_type": "code",
   "execution_count": 63,
   "id": "fd74edf0",
   "metadata": {},
   "outputs": [
    {
     "name": "stdout",
     "output_type": "stream",
     "text": [
      "X(-1) = 5*Z\n",
      "X(0) = 4\n",
      "X(1) = 3/Z\n",
      "X(2) = 4/Z**2\n",
      "X(3) = 5/Z**3\n"
     ]
    }
   ],
   "source": [
    "from sympy import *\n",
    "import numpy as np\n",
    "import matplotlib.pyplot as plt\n",
    "def transZsec(arr, zero):\n",
    "\n",
    "    Z = Symbol('Z')\n",
    "    pot = zero\n",
    "    for i in arr:\n",
    "        print(f'X({-pot}) =', i*np.power(Z, pot))\n",
    "        pot -= 1\n",
    "arr = np.array([5, 4, 3, 4, 5])\n",
    "arr_trans = transZsec(arr,1)"
   ]
  },
  {
   "cell_type": "code",
   "execution_count": null,
   "id": "08ac7602",
   "metadata": {},
   "outputs": [],
   "source": []
  },
  {
   "cell_type": "code",
   "execution_count": null,
   "id": "631fad20",
   "metadata": {},
   "outputs": [],
   "source": []
  }
 ],
 "metadata": {
  "kernelspec": {
   "display_name": "Python 3 (ipykernel)",
   "language": "python",
   "name": "python3"
  },
  "language_info": {
   "codemirror_mode": {
    "name": "ipython",
    "version": 3
   },
   "file_extension": ".py",
   "mimetype": "text/x-python",
   "name": "python",
   "nbconvert_exporter": "python",
   "pygments_lexer": "ipython3",
   "version": "3.9.13"
  }
 },
 "nbformat": 4,
 "nbformat_minor": 5
}
